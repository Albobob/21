{
 "cells": [
  {
   "cell_type": "markdown",
   "id": "5e12fe30-0a3d-4b00-a0c8-e61979c32163",
   "metadata": {},
   "source": [
    "## Упражнение 1 - Первые таблицы\r\n",
    "\r\n",
    "Давайте разработаем модель данных для хранения информации по баскетбольным матчам Евролиги! \\\r\n",
    "Модель данных будет включать в себя несколько таблиц, для хранения данных по стадионам, командам, участникам команд и проведенным матчам.\r\n",
    "\r\n",
    "Создайте реляционную таблицу, которая будет описывать сущность “стадион” (арену) команды. \\\r\n",
    "Необходимые атрибуты для создания таблицы перечислены ниже. Пожалуйста укажите имя создаваемой таблицы как **arena**.\r\n",
    "\r\n",
    "| атрибут | тип данных | Описание |\r\n",
    "| ------ | ------ | ------ |\r\n",
    "| ID | INTEGER | первичный ключ (Primary Key) |\r\n",
    "| NAME | VARCHAR | наименование арены |\r\n",
    "| SIZE | INTEGER | максимальное количество зрителей |"
   ]
  },
  {
   "cell_type": "markdown",
   "id": "93a7e21e-1544-4ab7-a3bc-5ffa9037d747",
   "metadata": {},
   "source": [
    "\n",
    "```sql\n",
    "CREATE TABLE IF NOT EXISTS arena(\r\n",
    "ID INTEGER PRIMARY KEY,\r\n",
    "NAME VARCHAR,\r\n",
    "SIZE INTEGER\n",
    ");\r\n",
    "\n",
    "```"
   ]
  },
  {
   "cell_type": "markdown",
   "id": "c21f178f-10d0-46a8-8fc5-301880a17389",
   "metadata": {},
   "source": [
    "Создайте реляционную таблицу, которая будет описывать сущность “команда”. \\\n",
    "Необходимые атрибуты для создания таблицы перечислены ниже. Пожалуйста укажите имя создаваемой таблицы как **team**.\n",
    "\n",
    "| атрибут | тип данных | Описание |\n",
    "| ------ | ------ | ------ |\n",
    "| ID | INTEGER | первичный ключ (Primary Key) |\n",
    "| CITY | VARCHAR | домашний город команды |\n",
    "| NAME | VARCHAR | наименование команды |\n",
    "| COACH_NAME | VARCHAR | имя тренера команды |\n",
    "| ARENA_ID | INTEGER | стадион команды |"
   ]
  },
  {
   "cell_type": "markdown",
   "id": "3ca208a5-8d35-4417-a018-3a2537626729",
   "metadata": {},
   "source": [
    "```sql\n",
    "CREATE TABLE IF NOT EXISTS team(\n",
    "ID INTEGER PRIMARY KEY,\n",
    "CITY VARCHAR,\n",
    "NAME VARCHAR,\n",
    "COACH_NAME VARCHAR,\n",
    "ARENA_ID INTEGER\n",
    ");\n",
    "```"
   ]
  },
  {
   "cell_type": "markdown",
   "id": "c4873803-68d1-48ba-af01-c7b4bd603515",
   "metadata": {},
   "source": [
    "Создайте реляционную таблицу, которая будет описывать сущность “игрок”. \\\n",
    "Необходимые атрибуты для создания таблицы перечислены ниже. Пожалуйста укажите имя создаваемой таблицы как **player**.\n",
    "\n",
    "| атрибут | тип данных | Описание |\n",
    "| ------ | ------ | ------ |\n",
    "| ID | INTEGER | первичный ключ (Primary Key) |\n",
    "| NAME | VARCHAR | имя игрока |\n",
    "| POSITION | VARCHAR | позиция игрока на поле |\n",
    "| HEIGHT | NUMERIC | рост игрока |\n",
    "| WEIGHT | NUMERIC | вес игрока |\n",
    "| SALARY | NUMERIC | зарплата игрока |\n",
    "| TEAM_ID | INTEGER | команда игрока |"
   ]
  },
  {
   "cell_type": "markdown",
   "id": "d175d318-b685-46df-9075-01f08b91812e",
   "metadata": {},
   "source": [
    "```sql\n",
    "CREATE TABLE IF NOT EXISTS player(\n",
    "ID INTEGER PRIMARY KEY,\n",
    "NAME VARCHAR,\n",
    "POSITION VARCHAR,\n",
    "HEIGHT NUMERIC,\n",
    "WEIGHT NUMERIC,\n",
    "SALARY NUMERIC,\n",
    "TEAM_ID INTEGER\n",
    ");\n",
    "```"
   ]
  },
  {
   "cell_type": "markdown",
   "id": "f254848b-8d67-4d91-ab59-37c73932fefe",
   "metadata": {},
   "source": [
    "## Глава II\n",
    "## Упражнение 2 - Правила консистентности\n",
    "\n",
    "Для таблицы **arena** (созданную в задании №1) укажите следующие правила консистентности данных (CHECK CONSTRAINTs) \n",
    "- Поле NAME должно принимать NOT NULL  значение\n",
    "- Поле SIZE должно принимать NOT NULL  значение\n",
    "- Значение по умолчанию для поля SIZE - это 100 зрителей"
   ]
  },
  {
   "cell_type": "markdown",
   "id": "57aee8ab-dde8-4dee-a52a-1cacf41adf2e",
   "metadata": {},
   "source": [
    "```sql\n",
    "ALTER TABLE arena\n",
    "ADD CONSTRAINT CHK_NAME_NOT_NULL CHECK (name IS NOT NULL),\n",
    "ADD CONSTRAINT CHK_SIZE_NOT_NULL CHECK (size IS NOT NULL);\n",
    "\n",
    "ALTER TABLEema.arena \n",
    "ALTER COLUMN size SET DEFAULT 100;;\n",
    "```"
   ]
  },
  {
   "cell_type": "markdown",
   "id": "dea9b0ad-6298-4c23-b611-10bae32546c1",
   "metadata": {},
   "source": [
    "Для таблицы **team** (созданную в задании №1) укажите следующие правила консистентности данных (CHECK CONSTRAINTs)\n",
    "- Поле NAME должно принимать NOT NULL  значение\n",
    "- Поле CITY должно принимать NOT NULL  значение\n",
    "- Поле COACH_NAME должно принимать NOT NULL  значение\n",
    "- Поле ARENA_ID должно принимать NOT NULL  значение"
   ]
  },
  {
   "cell_type": "markdown",
   "id": "dbc32b86-fee8-404d-a8e3-1931ee1b9ffc",
   "metadata": {},
   "source": [
    "```sql\n",
    "ALTER TABLE team \n",
    "ADD CONSTRAINT CHK_NAME_NOT_NULL CHECK (name IS NOT NULL),\n",
    "ADD CONSTRAINT CHK_CITY_NOT_NULL CHECK (city IS NOT NULL),\n",
    "ADD CONSTRAINT CHK_COACH_NAME_NOT_NULL CHECK (coach_name IS NOT NULL),\n",
    "ADD CONSTRAINT CHK_ARENA_ID_NOT_NULL CHECK (arena_id IS NOT NULL);\n",
    "```  "
   ]
  },
  {
   "cell_type": "markdown",
   "id": "cb23ecaf-f03b-4714-9c67-f11a4da19631",
   "metadata": {},
   "source": [
    "Для таблицы **player** (созданную в задании №1) укажите следующие правила консистентности данных (CHECK CONSTRAINTs)\n",
    "- Поле NAME должно принимать NOT NULL  значение\n",
    "- Поле POSITION должно принимать NOT NULL  значение\n",
    "- Поле HEIGHT должно принимать NOT NULL  значение\n",
    "- Поле WEIGHT должно принимать NOT NULL  значение\n",
    "- Поле SALARY должно принимать NOT NULL  значение\n",
    "- Поле TEAM_ID должно принимать NOT NULL  значение\n",
    "- Рост игрока (HEIGHT) должен быть строго больше 0\n",
    "- Вес игрока (WEIGHT) должен быть строго больше 0\n",
    "- Зарплата игрока (SALARY) должна быть строго больше 0"
   ]
  },
  {
   "cell_type": "markdown",
   "id": "a063b31d-40a2-4ed0-ba89-d31a4425833a",
   "metadata": {},
   "source": [
    "```sql\n",
    "ALTER TABLE player \n",
    "ADD CONSTRAINT CHK_NAME_NOT_NULL CHECK (name IS NOT NULL),\n",
    "ADD CONSTRAINT CHK_POSITION_NOT_NULL CHECK (position IS NOT NULL),\n",
    "ADD CONSTRAINT CHK_HEIGHT_NOT_NULL CHECK (height IS NOT NULL),\n",
    "ADD CONSTRAINT CHK_WEIGHT_NOT_NULL CHECK (weight IS NOT NULL),\n",
    "ADD CONSTRAINT CHK_SALARY_NOT_NULL CHECK (salary IS NOT NULL),\n",
    "ADD CONSTRAINT CHK_TEAM_ID_NOT_NULL CHECK (team_id IS NOT NULL),\n",
    "ADD CONSTRAINT CHK_HEIGHT_POSITIVE CHECK (height > 0),\n",
    "ADD CONSTRAINT CHK_WEIGHT_POSITIVE CHECK (weight > 0),\n",
    "ADD CONSTRAINT CHK_SALARY_POSITIVE CHECK (salary > 0); \n",
    "```"
   ]
  },
  {
   "cell_type": "markdown",
   "id": "758f25dd-b446-469f-a848-d65db74657ce",
   "metadata": {},
   "source": [
    "## Глава III\n",
    "## Упражнение 3 - Определение ключей\n",
    "\n",
    "Для таблицы **arena** (созданную в задании №1) укажите следующие правила консистентности данных по уникальности значений \n",
    "- Имя стадиона (NAME) должно быть уникальным (UNIQUE KEY) "
   ]
  },
  {
   "cell_type": "markdown",
   "id": "77484416-5529-4d99-a3df-eda284c8243d",
   "metadata": {},
   "source": [
    "```sql\n",
    "ALTER TABLE arena\n",
    "ADD CONSTRAINT NAME_ARENA_UNIQ UNIQUE (name);\n",
    "```  "
   ]
  },
  {
   "cell_type": "markdown",
   "id": "bbeae89d-8ff3-491b-a418-da50cbc25b11",
   "metadata": {},
   "source": [
    "Для таблицы **team** (созданную в задании №1) укажите следующие правила консистентности данных по уникальности значений \r\n",
    "- Имя команды (NAME) должно быть уникальным (UNIQUE KEY) \r\n",
    "- Имя тренера команды (COACH_NAME) должно быть уникальным (UNIQUE KEY) "
   ]
  },
  {
   "cell_type": "markdown",
   "id": "aa66080c-8901-4a2b-9327-a70898941061",
   "metadata": {},
   "source": [
    "```sql\n",
    "ALTER TABLE team \n",
    "ADD CONSTRAINT NAME_TEAM_UNIQ UNIQUE (name),\n",
    "ADD CONSTRAINT COACH_UNIQ UNIQUE (coach_name); \n",
    "``````"
   ]
  },
  {
   "cell_type": "markdown",
   "id": "89b2ba04-7f0a-4be9-91a9-c446c2973f9d",
   "metadata": {},
   "source": [
    "Для таблицы **player** (созданную в задании №1) укажите следующие правила консистентности данных по уникальности значений (UNIQUE KEY) \n",
    "- Имя игрока (NAME) должно быть уникальным\n",
    "\n",
    "```sql\n",
    "ALTER TABLE player\n",
    "ADD CONSTRAINT NAME_PLAYER_UNIQ UNIQUE (name);\n",
    "```\n"
   ]
  },
  {
   "cell_type": "markdown",
   "id": "ecb12974-ff19-4e17-8eaf-bcb59250fa37",
   "metadata": {},
   "source": [
    "Для таблицы  **team** (созданную в задании №1) укажите следующие правила консистентности данных по определения внешнего ключа (FOREIGN KEY)  \n",
    "- Поле ARENA_ID должно быть внешним ключом на поле ID таблицы arena с правилом каскадного обновления данных (ON UPDATE CASCADE) и правилом ограничения по каскадному удалению данных (ON DELETE RESTRICT)\n",
    "```sql\n",
    "ALTER TABLE team\n",
    "ADD CONSTRAINT FK_ARENA_ID FOREIGN KEY (arena_id)\n",
    "REFERENCES arena(id)\n",
    "ON UPDATE CASCADE\n",
    "ON DELETE RESTRICT;\n",
    "```"
   ]
  },
  {
   "cell_type": "markdown",
   "id": "583da0cb-535b-4316-84ab-4b07434ab808",
   "metadata": {},
   "source": [
    "Для таблицы **player** (созданную в задании №1) укажите следующие правила консистентности данных по определения внешнего ключа (FOREIGN KEY)  \n",
    "- Поле TEAM_ID должно быть внешним ключом на поле ID таблицы team с правилом каскадного обновления данных (ON UPDATE CASCADE) и правилом ограничения по каскадному удалению данных (ON DELETE CASCADE)"
   ]
  },
  {
   "cell_type": "markdown",
   "id": "ccea26a2-0e60-459c-8200-d66d9ed33032",
   "metadata": {},
   "source": [
    "```sql\n",
    "ALTER TABLE player\n",
    "ADD CONSTRAINT FK_TEAM_ID FOREIGN KEY (team_id)\n",
    "REFERENCES team(id)\n",
    "ON UPDATE CASCADE\n",
    "ON DELETE RESTRICT;\n",
    "```"
   ]
  },
  {
   "cell_type": "markdown",
   "id": "cbc27362-d916-412b-9878-ca969ca6483b",
   "metadata": {},
   "source": [
    "## Глава IV\r\n",
    "## Упражнение 4 - Дополнительная таблица\r\n",
    "\r\n",
    "Создайте реляционную таблицу, которая будет описывать сущность “игра” между командами. \\\r\n",
    "Необходимые атрибуты для создания таблицы перечислены ниже. Пожалуйста укажите имя создаваемой таблицы как **game**.\r\n",
    "\r\n",
    "| атрибут | тип данных | Описание |\r\n",
    "| ------ | ------ | ------ |\r\n",
    "| ID | INTEGER | первичный ключ (Primary Key) |\r\n",
    "| OWNER_TEAM_ID | INTEGER | команда хозяйка матча |\r\n",
    "| GUEST_TEAM_ID | INTEGER | команда гостья матча |\r\n",
    "| GAME_DATE | DATE | дата игры |\r\n",
    "| WINNER_TEAM_ID | INTEGER | команда победитель |\r\n",
    "| OWNER_SCORE | INTEGER | количество очков команды хозяйки |\r\n",
    "| GUEST_SCORE | INTEGER | количество очков команды гостьи |\r\n",
    "| ARENA_ID | INTEGER | стадион проведения матча |"
   ]
  },
  {
   "cell_type": "markdown",
   "id": "47772917-fc23-4fab-abcc-4bb789c17599",
   "metadata": {},
   "source": [
    "```sql\n",
    "CREATE TABLE IF NOT EXISTS GAME(\n",
    "id INTEGER PRIMARY KEY,\n",
    "owner_team_id INTEGER,\n",
    "guest_team_id INTEGER,\n",
    "game_date DATE,\n",
    "winner_team_id INTEGER,\n",
    "owner_score INTEGER,\n",
    "guest_score INTEGER,\n",
    "arena_id INTEGER\n",
    ");\n",
    "```  "
   ]
  },
  {
   "cell_type": "code",
   "execution_count": null,
   "id": "59787594-2635-4bcb-83f0-c26a0274e760",
   "metadata": {},
   "outputs": [],
   "source": []
  }
 ],
 "metadata": {
  "kernelspec": {
   "display_name": "Python 3 (ipykernel)",
   "language": "python",
   "name": "python3"
  },
  "language_info": {
   "codemirror_mode": {
    "name": "ipython",
    "version": 3
   },
   "file_extension": ".py",
   "mimetype": "text/x-python",
   "name": "python",
   "nbconvert_exporter": "python",
   "pygments_lexer": "ipython3",
   "version": "3.10.6"
  }
 },
 "nbformat": 4,
 "nbformat_minor": 5
}
